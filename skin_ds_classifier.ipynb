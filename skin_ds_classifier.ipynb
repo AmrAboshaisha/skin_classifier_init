{
 "cells": [
  {
   "cell_type": "markdown",
   "id": "43709486",
   "metadata": {},
   "source": [
    "# Skin disease Classifier\n",
    "\n",
    "This is a simple skin disease classifier built for demonstration purposes only. You can use the upload button below to upload images of skin diseases and it will output its prediction for what the disease is and the probability.\n",
    "\n",
    "At this point the classifier can only recognize the following categories:\n",
    "\n",
    "1. Allergic contact dermatitis\n",
    "2. Lichen planus\n",
    "3. Pityriasis Rosea\n",
    "4. Psoriasis\n",
    "5. Actinic Keratosis\n",
    "6. Seborrheic Dermatitis\n",
    "7. Acne\n",
    "8. Rosacea\n",
    "9. Basal cell carcinoma\n",
    "10. Eczema\n",
    "11. Urticaria\n",
    "\n",
    "Since this was trained as proof of concept only, the performace on some of the categories is still not very good."
   ]
  },
  {
   "cell_type": "code",
   "execution_count": null,
   "id": "025cb958",
   "metadata": {},
   "outputs": [],
   "source": [
    "from fastai.vision.all import *\n",
    "from fastai.vision.widgets import *"
   ]
  },
  {
   "cell_type": "code",
   "execution_count": null,
   "id": "f58b6c1b",
   "metadata": {},
   "outputs": [],
   "source": [
    "path = Path()\n",
    "learn_inf = load_learner(path/'skins_2.pkl', cpu=True)\n",
    "btn_upload = widgets.FileUpload()\n",
    "out_pl = widgets.Output()\n",
    "lbl_pred = widgets.Label()"
   ]
  },
  {
   "cell_type": "code",
   "execution_count": null,
   "id": "a4bae69f",
   "metadata": {},
   "outputs": [],
   "source": [
    "def on_data_change(change):\n",
    "    lbl_pred.value = ''\n",
    "    img = PILImage.create(btn_upload.data[-1])\n",
    "    out_pl.clear_output()\n",
    "    with out_pl: display(img.to_thumb(128,128))\n",
    "    pred,pred_idx,probs = learn_inf.predict(img)\n",
    "    lbl_pred.value = f'Prediction: {pred}; Probability: {probs[pred_idx]:.04f}'"
   ]
  },
  {
   "cell_type": "code",
   "execution_count": null,
   "id": "de8bc3d3",
   "metadata": {},
   "outputs": [],
   "source": [
    "btn_upload.observe(on_data_change, names=['data'])"
   ]
  },
  {
   "cell_type": "code",
   "execution_count": null,
   "id": "ee0a2ec5",
   "metadata": {},
   "outputs": [],
   "source": [
    "display(VBox([widgets.Label('Upload your image'), btn_upload, out_pl, lbl_pred]))"
   ]
  },
  {
   "cell_type": "code",
   "execution_count": null,
   "id": "d2629a68",
   "metadata": {},
   "outputs": [],
   "source": []
  }
 ],
 "metadata": {
  "kernelspec": {
   "display_name": "Python 3",
   "language": "python",
   "name": "python3"
  },
  "language_info": {
   "codemirror_mode": {
    "name": "ipython",
    "version": 3
   },
   "file_extension": ".py",
   "mimetype": "text/x-python",
   "name": "python",
   "nbconvert_exporter": "python",
   "pygments_lexer": "ipython3",
   "version": "3.8.8"
  }
 },
 "nbformat": 4,
 "nbformat_minor": 5
}
